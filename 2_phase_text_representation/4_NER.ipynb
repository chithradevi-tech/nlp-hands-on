{
 "cells": [
  {
   "cell_type": "markdown",
   "metadata": {},
   "source": [
    "🧠 What is NER?\n",
    "NER (Named Entity Recognition) is a part of Natural Language Processing (NLP) that helps a computer find and classify named things in text.\n",
    "\n",
    "It identifies real-world entities like:\n",
    "\n",
    "👤 Person names → \"Barack Obama\"\n",
    "\n",
    "🌍 Locations → \"Paris\", \"India\"\n",
    "\n",
    "🏢 Organizations → \"Google\", \"United Nations\"\n",
    "\n",
    "📅 Dates → \"June 11, 2025\"\n",
    "\n",
    "💰 Money → \"$1 billion\"\n",
    "\n",
    "📦 Products, 🛬 Events, etc.\n",
    "\n",
    "\n",
    "Elon Musk founded SpaceX in 2002 and lives in Texas.\n",
    "\n",
    "**Recognized Entities:**\n",
    "\n",
    "- **Elon Musk** → PERSON  \n",
    "- **SpaceX** → ORG (Organization)  \n",
    "- **2002** → DATE  \n",
    "- **Texas** → GPE (Geopolitical Entity / Location)\n",
    "\n"
   ]
  },
  {
   "cell_type": "code",
   "execution_count": 2,
   "metadata": {
    "id": "pB9XcDFPgTzg"
   },
   "outputs": [],
   "source": [
    "import spacy"
   ]
  },
  {
   "cell_type": "code",
   "execution_count": 3,
   "metadata": {
    "id": "QzA6ngcLguy9"
   },
   "outputs": [],
   "source": [
    "nlp = spacy.load('en_core_web_sm')"
   ]
  },
  {
   "cell_type": "code",
   "execution_count": 12,
   "metadata": {
    "colab": {
     "base_uri": "https://localhost:8080/"
    },
    "id": "K75MssHogyIc",
    "outputId": "434db4d0-510f-47b2-c8af-a4d73e34dbe5"
   },
   "outputs": [
    {
     "data": {
      "text/plain": [
       "['tok2vec', 'tagger', 'parser', 'attribute_ruler', 'lemmatizer', 'ner']"
      ]
     },
     "execution_count": 12,
     "metadata": {},
     "output_type": "execute_result"
    }
   ],
   "source": [
    "nlp.pipe_names"
   ]
  },
  {
   "cell_type": "code",
   "execution_count": 13,
   "metadata": {
    "colab": {
     "base_uri": "https://localhost:8080/"
    },
    "id": "7-bn6tpig0ck",
    "outputId": "d4415b57-bfbe-4c83-a2b2-8bceb9304a4b"
   },
   "outputs": [
    {
     "name": "stdout",
     "output_type": "stream",
     "text": [
      "Tesla Inc  |  ORG  |  Companies, agencies, institutions, etc.\n",
      "$45 billion  |  MONEY  |  Monetary values, including unit\n"
     ]
    }
   ],
   "source": [
    "text = nlp(\"Tesla Inc is going to acquire twitter for $45 billion\")\n",
    "\n",
    "for ent in text.ents:\n",
    "  print(ent.text, \" | \", ent.label_, \" | \", spacy.explain(ent.label_))"
   ]
  },
  {
   "cell_type": "code",
   "execution_count": 16,
   "metadata": {
    "colab": {
     "base_uri": "https://localhost:8080/"
    },
    "id": "4GVF_PaghQMP",
    "outputId": "efd0f1f5-145d-4f1a-d4a0-6b9474f5c41f"
   },
   "outputs": [
    {
     "name": "stdout",
     "output_type": "stream",
     "text": [
      "Tesla Inc  |  ORG  |  Companies, agencies, institutions, etc.\n",
      "$45 billion  |  MONEY  |  Monetary values, including unit\n"
     ]
    }
   ],
   "source": [
    "text1 = nlp(\"Tesla Inc is going to acquire twitter for forty five billion dollars\")\n",
    "\n",
    "for ent in text.ents:\n",
    "  print(ent.text, \" | \", ent.label_, \" | \", spacy.explain(ent.label_))"
   ]
  },
  {
   "cell_type": "code",
   "execution_count": 33,
   "metadata": {
    "colab": {
     "base_uri": "https://localhost:8080/",
     "height": 52
    },
    "id": "sfE6ddzNhFAu",
    "outputId": "35a3aba7-ce81-49f2-e61e-5982264f5531"
   },
   "outputs": [],
   "source": [
    "from spacy import displacy\n",
    "\n",
    "#displacy.render(text, style=\"ent\")"
   ]
  },
  {
   "cell_type": "code",
   "execution_count": null,
   "metadata": {
    "colab": {
     "base_uri": "https://localhost:8080/",
     "height": 52
    },
    "id": "WAAhry_wheFH",
    "outputId": "c483ef2f-3338-4590-e12f-f85882ddee9e"
   },
   "outputs": [],
   "source": [
    "text2 = nlp(\"Elon Musk runs an organisation named Tesla\")\n",
    "\n",
    "from spacy import displacy\n",
    "\n",
    "displacy.render(text2, style=\"ent\")"
   ]
  },
  {
   "cell_type": "code",
   "execution_count": null,
   "metadata": {
    "colab": {
     "base_uri": "https://localhost:8080/"
    },
    "id": "woG03cK-h5DT",
    "outputId": "d2058298-cf09-4326-efa1-14453f676db7"
   },
   "outputs": [],
   "source": [
    "nlp.pipe_labels['ner']"
   ]
  },
  {
   "cell_type": "code",
   "execution_count": 26,
   "metadata": {
    "colab": {
     "base_uri": "https://localhost:8080/",
     "height": 52
    },
    "id": "N56wRaJshn8d",
    "outputId": "af600b39-8faf-44ec-dd23-ba33e3e09fa5"
   },
   "outputs": [],
   "source": [
    "doc = nlp(u\"Michael Bloomberg founded Bloomberg in 1982\")\n",
    "\n",
    "from spacy import displacy\n",
    "\n",
    "#displacy.render(doc, style=\"span\", jupyter=True, options={'distance':140})"
   ]
  },
  {
   "cell_type": "markdown",
   "metadata": {
    "id": "DGuSW9BViIth"
   },
   "source": [
    "### Setting own entities"
   ]
  },
  {
   "cell_type": "code",
   "execution_count": 28,
   "metadata": {
    "colab": {
     "base_uri": "https://localhost:8080/"
    },
    "id": "AI63GJnfiFj-",
    "outputId": "4677c745-90d6-4e89-8b77-723d9ff7d176"
   },
   "outputs": [
    {
     "name": "stdout",
     "output_type": "stream",
     "text": [
      "Tesla Inc  |  ORG\n",
      "$45 billion  |  MONEY\n"
     ]
    }
   ],
   "source": [
    "doc = nlp(\"Tesla Inc is going to acquire twitter for $45 billion\")\n",
    "for ent in doc.ents:\n",
    "  print(ent.text, \" | \", ent.label_)"
   ]
  },
  {
   "cell_type": "code",
   "execution_count": 29,
   "metadata": {
    "colab": {
     "base_uri": "https://localhost:8080/"
    },
    "id": "WEXR0meziRSV",
    "outputId": "43afbe75-b401-4a1c-ed77-5e94fc211e18"
   },
   "outputs": [
    {
     "data": {
      "text/plain": [
       "going to acquire"
      ]
     },
     "execution_count": 29,
     "metadata": {},
     "output_type": "execute_result"
    }
   ],
   "source": [
    "s = doc[3:6]\n",
    "s"
   ]
  },
  {
   "cell_type": "code",
   "execution_count": 22,
   "metadata": {
    "colab": {
     "base_uri": "https://localhost:8080/"
    },
    "id": "SOcXYXnnia0-",
    "outputId": "484180f6-69c5-46b1-a949-c490bd3811b0"
   },
   "outputs": [
    {
     "data": {
      "text/plain": [
       "spacy.tokens.span.Span"
      ]
     },
     "execution_count": 22,
     "metadata": {},
     "output_type": "execute_result"
    }
   ],
   "source": [
    "type(s)"
   ]
  },
  {
   "cell_type": "code",
   "execution_count": 30,
   "metadata": {
    "id": "3GGHUkbcigqu"
   },
   "outputs": [],
   "source": [
    "from spacy.tokens import Span\n",
    "\n",
    "s1 = Span(doc, 0, 2, label='ORG')\n",
    "s2 = Span(doc, 8,11, label='ORG')\n",
    "\n",
    "doc.set_ents([s1,s2], default='unmodified')"
   ]
  },
  {
   "cell_type": "code",
   "execution_count": 31,
   "metadata": {
    "colab": {
     "base_uri": "https://localhost:8080/"
    },
    "id": "G2OIZeTXizPk",
    "outputId": "5cd78dd8-a91c-4c91-f6f6-82d023d484a0"
   },
   "outputs": [
    {
     "name": "stdout",
     "output_type": "stream",
     "text": [
      "Tesla Inc  |  ORG\n",
      "$45 billion  |  ORG\n"
     ]
    }
   ],
   "source": [
    "for ent in doc.ents:\n",
    "  print(ent.text, \" | \", ent.label_)"
   ]
  },
  {
   "cell_type": "code",
   "execution_count": 32,
   "metadata": {
    "colab": {
     "base_uri": "https://localhost:8080/",
     "height": 52
    },
    "id": "PlzAUiwqi19G",
    "outputId": "bf3a9b1a-a94c-492f-9388-1e951891224f"
   },
   "outputs": [],
   "source": [
    "text2 = nlp(\"Satyajit Pattnaik runs an organisation named Zep Analytics\")\n",
    "\n",
    "s1 = Span(doc, 0, 2, label='PERSON')\n",
    "s2 = Span(doc, 6,8, label='ORG')\n",
    "\n",
    "text2.set_ents([s1,s2], default='unmodified')\n",
    "\n",
    "from spacy import displacy\n",
    "\n",
    "#displacy.render(text2, style=\"ent\")"
   ]
  },
  {
   "cell_type": "code",
   "execution_count": null,
   "metadata": {
    "id": "u8wmvgq2jbzG"
   },
   "outputs": [],
   "source": []
  }
 ],
 "metadata": {
  "colab": {
   "provenance": []
  },
  "kernelspec": {
   "display_name": "Python 3 (ipykernel)",
   "language": "python",
   "name": "python3"
  },
  "language_info": {
   "codemirror_mode": {
    "name": "ipython",
    "version": 3
   },
   "file_extension": ".py",
   "mimetype": "text/x-python",
   "name": "python",
   "nbconvert_exporter": "python",
   "pygments_lexer": "ipython3",
   "version": "3.13.1"
  }
 },
 "nbformat": 4,
 "nbformat_minor": 4
}
