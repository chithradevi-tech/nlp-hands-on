{
 "cells": [
  {
   "cell_type": "markdown",
   "id": "d4a60ddc-a58e-40e9-b80a-20076f7f661a",
   "metadata": {},
   "source": [
    "### N-grams are categorized based on the number of items they contain:\n",
    "- Unigrams (N=1): Single words (e.g., \"data\", \"analysis\").\n",
    "- Bigrams (N=2): Two consecutive words (e.g., \"data analysis\").\n",
    "- Trigrams (N=3): Three consecutive words (e.g., \"data analysis techniques\").\n",
    "- Higher-order N-Grams (N>3): Longer sequences capturing more context (e.g., \"advanced data analysis techniques\").\n",
    "- #nltk.download('punkt')"
   ]
  },
  {
   "cell_type": "code",
   "execution_count": 1,
   "id": "be5742f2-d77f-4a48-a666-c00b917b627c",
   "metadata": {},
   "outputs": [],
   "source": [
    "import nltk\n",
    "from nltk.tokenize import word_tokenize\n",
    "from nltk import ngrams"
   ]
  },
  {
   "cell_type": "code",
   "execution_count": 2,
   "id": "088a3afc-6dcb-49f1-b442-53f6170369f5",
   "metadata": {},
   "outputs": [],
   "source": [
    "def generate_ngrams(text, n):\n",
    "  tokens = word_tokenize(text)\n",
    "  n_grams = list(ngrams(tokens,n))\n",
    "  return n_grams"
   ]
  },
  {
   "cell_type": "code",
   "execution_count": 3,
   "id": "8ec6034b-3be7-4b71-9ac3-696b6708f7cb",
   "metadata": {},
   "outputs": [],
   "source": [
    "# Example text\n",
    "txt = \"N-Grams are a sequence of n items from a given sample of text or speech\"\n",
    "\n",
    "unigrams = generate_ngrams(txt,1)\n",
    "bigrams = generate_ngrams(txt,2)\n",
    "trigrams = generate_ngrams(txt,3)"
   ]
  },
  {
   "cell_type": "code",
   "execution_count": 4,
   "id": "4380c789-890d-4c59-8525-e509b45ed5eb",
   "metadata": {},
   "outputs": [
    {
     "name": "stdout",
     "output_type": "stream",
     "text": [
      "[('N-Grams',), ('are',), ('a',), ('sequence',), ('of',), ('n',), ('items',), ('from',), ('a',), ('given',), ('sample',), ('of',), ('text',), ('or',), ('speech',)]\n"
     ]
    }
   ],
   "source": [
    "print(unigrams)"
   ]
  },
  {
   "cell_type": "code",
   "execution_count": 5,
   "id": "4649fc0f-7c49-4e15-b884-4dd13397bffe",
   "metadata": {},
   "outputs": [
    {
     "name": "stdout",
     "output_type": "stream",
     "text": [
      "[('N-Grams', 'are'), ('are', 'a'), ('a', 'sequence'), ('sequence', 'of'), ('of', 'n'), ('n', 'items'), ('items', 'from'), ('from', 'a'), ('a', 'given'), ('given', 'sample'), ('sample', 'of'), ('of', 'text'), ('text', 'or'), ('or', 'speech')]\n"
     ]
    }
   ],
   "source": [
    "print(bigrams)"
   ]
  },
  {
   "cell_type": "code",
   "execution_count": 6,
   "id": "33eba86d-ee89-4e55-96bb-b2ad154f71fc",
   "metadata": {},
   "outputs": [
    {
     "name": "stdout",
     "output_type": "stream",
     "text": [
      "[('N-Grams', 'are', 'a'), ('are', 'a', 'sequence'), ('a', 'sequence', 'of'), ('sequence', 'of', 'n'), ('of', 'n', 'items'), ('n', 'items', 'from'), ('items', 'from', 'a'), ('from', 'a', 'given'), ('a', 'given', 'sample'), ('given', 'sample', 'of'), ('sample', 'of', 'text'), ('of', 'text', 'or'), ('text', 'or', 'speech')]\n"
     ]
    }
   ],
   "source": [
    "print(trigrams)"
   ]
  },
  {
   "cell_type": "code",
   "execution_count": null,
   "id": "692f33a0-a23f-42a1-9c9c-0e5b0b78aa4e",
   "metadata": {},
   "outputs": [],
   "source": []
  }
 ],
 "metadata": {
  "kernelspec": {
   "display_name": "Python 3 (ipykernel)",
   "language": "python",
   "name": "python3"
  },
  "language_info": {
   "codemirror_mode": {
    "name": "ipython",
    "version": 3
   },
   "file_extension": ".py",
   "mimetype": "text/x-python",
   "name": "python",
   "nbconvert_exporter": "python",
   "pygments_lexer": "ipython3",
   "version": "3.13.1"
  }
 },
 "nbformat": 4,
 "nbformat_minor": 5
}
