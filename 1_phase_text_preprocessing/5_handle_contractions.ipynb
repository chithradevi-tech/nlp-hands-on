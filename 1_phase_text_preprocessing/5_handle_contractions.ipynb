{
  "cells": [
    {
      "cell_type": "markdown",
      "metadata": {},
      "source": [
        "### !pip install contractions\n",
        "Contractions are shortened forms of words or phrases, created by omitting certain letters and replacing them with an apostrophe. They are commonly used in both spoken and written English to make communication more efficient and natural.\n",
        "\n",
        "Examples of Contractions:\n",
        "I am → I'm\n",
        "You are → You're"
      ]
    },
    {
      "cell_type": "code",
      "execution_count": null,
      "metadata": {
        "colab": {
          "base_uri": "https://localhost:8080/"
        },
        "id": "WuGjPECTNEo3",
        "outputId": "ba26e2fa-c637-44f7-d029-ccee4c4c06c8"
      },
      "outputs": [
        {
          "name": "stdout",
          "output_type": "stream",
          "text": [
            "I cannot believe it is already raining\n"
          ]
        }
      ],
      "source": [
        "import contractions\n",
        "\n",
        "txt = \"I can't believe it's already raining\"\n",
        "\n",
        "expanded_txt = contractions.fix(txt)\n",
        "\n",
        "print(expanded_txt)"
      ]
    },
    {
      "cell_type": "code",
      "execution_count": 17,
      "metadata": {
        "id": "cvmQO14UNN_O"
      },
      "outputs": [],
      "source": [
        "import re\n",
        "\n",
        "def expand_contractions(text):\n",
        "  contractions_pattern = {\n",
        "      r\"(?i)can't\":\"cannot\",\n",
        "      r\"(?i)won't\":\"will not\",\n",
        "      r\"(?i)it's\":\"it is\",\n",
        "      r\"(?i)weren't\":\"were not\",\n",
        "      r\"(?i)I'm\":\"I am\",\n",
        "      r\"(?i)couldn't\":\"could not\"\n",
        "  }\n",
        "  for contraction, expansion in contractions_pattern.items():\n",
        "    text = re.sub(contraction,expansion,text)\n",
        "\n",
        "  return text"
      ]
    },
    {
      "cell_type": "code",
      "execution_count": 18,
      "metadata": {
        "colab": {
          "base_uri": "https://localhost:8080/"
        },
        "id": "2VmS16pLN8cX",
        "outputId": "cac0b174-6f74-461b-811d-a0efe3f46b16"
      },
      "outputs": [
        {
          "name": "stdout",
          "output_type": "stream",
          "text": [
            "I could not visit my aunt's place yesterday\n"
          ]
        }
      ],
      "source": [
        "txt = \"I couldn't visit my aunt's place yesterday\"\n",
        "expanded_text = expand_contractions(txt)\n",
        "print(expanded_text)"
      ]
    },
    {
      "cell_type": "code",
      "execution_count": null,
      "metadata": {
        "id": "doa0EcFXOADN"
      },
      "outputs": [],
      "source": []
    }
  ],
  "metadata": {
    "colab": {
      "provenance": []
    },
    "kernelspec": {
      "display_name": "Python 3",
      "name": "python3"
    },
    "language_info": {
      "name": "python"
    }
  },
  "nbformat": 4,
  "nbformat_minor": 0
}
