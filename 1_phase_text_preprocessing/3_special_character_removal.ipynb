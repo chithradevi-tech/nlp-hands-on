{
 "cells": [
  {
   "cell_type": "markdown",
   "id": "289409b7-7dd4-41b9-9295-cc7bc3d5c994",
   "metadata": {},
   "source": [
    "### Special Character Removal using regular expression"
   ]
  },
  {
   "cell_type": "code",
   "execution_count": 1,
   "id": "a4272db2-1a4f-4c55-a424-09b6acfbedf9",
   "metadata": {},
   "outputs": [
    {
     "name": "stdout",
     "output_type": "stream",
     "text": [
      "hello how are you\n"
     ]
    }
   ],
   "source": [
    "import re\n",
    "\n",
    "#input string\n",
    "input_str = \"hello how are$ you!!\"\n",
    "\n",
    "#Using regular expressions to remove special characters\n",
    "clean_str = re.sub(r\"[^a-zA-Z0-9\\s]\",\"\",input_str)\n",
    "\n",
    "print(clean_str)"
   ]
  },
  {
   "cell_type": "markdown",
   "id": "779c3b84-98dc-44f8-b7e0-e092f505684e",
   "metadata": {},
   "source": [
    "### Special Character Removal using pandas"
   ]
  },
  {
   "cell_type": "code",
   "execution_count": 2,
   "id": "c3e163a9-31c1-4840-86d0-5f2c39cbe07e",
   "metadata": {},
   "outputs": [
    {
     "name": "stdout",
     "output_type": "stream",
     "text": [
      "                   text         clean_text\n",
      "0  hello how are$ you!!  hello how are you\n",
      "1         fine@ thanks#        fine thanks\n",
      "2      have_a nice-day!      havea niceday\n"
     ]
    }
   ],
   "source": [
    "import pandas as pd\n",
    "\n",
    "# Create DataFrame\n",
    "df = pd.DataFrame({\n",
    "    'text': ['hello how are$ you!!', 'fine@ thanks#', 'have_a nice-day!']\n",
    "})\n",
    "\n",
    "# Apply regex to remove special characters from the 'text' column\n",
    "df['clean_text'] = df['text'].str.replace(r'[^a-zA-Z0-9\\s]', '', regex=True)\n",
    "\n",
    "print(df)\n"
   ]
  },
  {
   "cell_type": "markdown",
   "id": "4743743f-d171-4ea9-b3cb-7e06e7860f82",
   "metadata": {},
   "source": [
    "### Libraries in the field of NLP - Special Character Removal using pandas\n",
    "\n",
    "- SpaCy - Natural language processing library in Python that can be used to tokenize and process textual data\n",
    "- nltk (natural language toolkit)\n",
    "- !pip install -U spacy\n",
    "- !python -m spacy download en_core_web_sm"
   ]
  },
  {
   "cell_type": "code",
   "execution_count": 4,
   "id": "d20f75e5-7370-46e5-910d-f24a11619036",
   "metadata": {},
   "outputs": [
    {
     "name": "stdout",
     "output_type": "stream",
     "text": [
      "hello how are you\n"
     ]
    }
   ],
   "source": [
    "import spacy\n",
    "\n",
    "# Load the spacy model\n",
    "nlp = spacy.load(\"en_core_web_sm\")\n",
    "\n",
    "# Input string\n",
    "input_str = \"hello how are$ you!!\"\n",
    "\n",
    "# Function to clean the string\n",
    "def clean_text(text):\n",
    "  cleaned_text = ''.join(char for char in text if char.isalpha() or char.isspace())\n",
    "  doc = nlp(cleaned_text)\n",
    "  return ' '.join(token.text for token in doc)\n",
    "\n",
    "# Get the final output\n",
    "clean_str = clean_text(input_str)\n",
    "print(clean_str)"
   ]
  },
  {
   "cell_type": "code",
   "execution_count": null,
   "id": "d204f3c3-1ff9-4932-81d6-489b63d7eb83",
   "metadata": {},
   "outputs": [],
   "source": []
  }
 ],
 "metadata": {
  "kernelspec": {
   "display_name": "Python 3 (ipykernel)",
   "language": "python",
   "name": "python3"
  },
  "language_info": {
   "codemirror_mode": {
    "name": "ipython",
    "version": 3
   },
   "file_extension": ".py",
   "mimetype": "text/x-python",
   "name": "python",
   "nbconvert_exporter": "python",
   "pygments_lexer": "ipython3",
   "version": "3.13.1"
  }
 },
 "nbformat": 4,
 "nbformat_minor": 5
}
