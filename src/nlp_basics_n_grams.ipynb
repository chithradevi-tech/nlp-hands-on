{
 "cells": [
  {
   "cell_type": "markdown",
   "id": "62dd669c-4115-40b8-9fd1-1cbd9ef7da4c",
   "metadata": {},
   "source": [
    "### N-grams are categorized based on the number of items they contain:\n",
    "- Unigrams (N=1): Single words (e.g., \"data\", \"analysis\").\n",
    "- Bigrams (N=2): Two consecutive words (e.g., \"data analysis\").\n",
    "- Trigrams (N=3): Three consecutive words (e.g., \"data analysis techniques\").\n",
    "- Higher-order N-Grams (N>3): Longer sequences capturing more context (e.g., \"advanced data analysis techniques\")."
   ]
  },
  {
   "cell_type": "code",
   "execution_count": 1,
   "id": "8769a11b-f539-4ba5-b225-6b37ce770d8e",
   "metadata": {},
   "outputs": [],
   "source": [
    "import nltk\n",
    "from nltk.tokenize import word_tokenize\n",
    "from nltk import ngrams"
   ]
  },
  {
   "cell_type": "code",
   "execution_count": null,
   "id": "9f3faae8-c1c3-44ba-aabe-15546d452d47",
   "metadata": {},
   "outputs": [],
   "source": [
    "#nltk.download('punkt')"
   ]
  },
  {
   "cell_type": "code",
   "execution_count": 3,
   "id": "e3770e01-8a3e-45c8-8fb1-de0eaea86bbc",
   "metadata": {},
   "outputs": [],
   "source": [
    "def generate_ngrams(text, n):\n",
    "  tokens = word_tokenize(text)\n",
    "  n_grams = list(ngrams(tokens,n))\n",
    "  return n_grams"
   ]
  },
  {
   "cell_type": "code",
   "execution_count": 4,
   "id": "0a0ab390-08d6-46c7-b82d-cf6f1df2e31d",
   "metadata": {},
   "outputs": [],
   "source": [
    "# Example text\n",
    "txt = \"N-Grams are a sequence of n items from a given sample of text or speech\"\n",
    "\n",
    "unigrams = generate_ngrams(txt,1)\n",
    "bigrams = generate_ngrams(txt,2)\n",
    "trigrams = generate_ngrams(txt,3)"
   ]
  },
  {
   "cell_type": "code",
   "execution_count": 5,
   "id": "c49ca2fe-90b3-4359-a5ee-1050b6d902ff",
   "metadata": {},
   "outputs": [
    {
     "name": "stdout",
     "output_type": "stream",
     "text": [
      "[('N-Grams',), ('are',), ('a',), ('sequence',), ('of',), ('n',), ('items',), ('from',), ('a',), ('given',), ('sample',), ('of',), ('text',), ('or',), ('speech',)]\n"
     ]
    }
   ],
   "source": [
    "print(unigrams)"
   ]
  },
  {
   "cell_type": "code",
   "execution_count": 6,
   "id": "16092c9b-adb9-488b-ae73-1a84a0046752",
   "metadata": {},
   "outputs": [
    {
     "name": "stdout",
     "output_type": "stream",
     "text": [
      "[('N-Grams', 'are'), ('are', 'a'), ('a', 'sequence'), ('sequence', 'of'), ('of', 'n'), ('n', 'items'), ('items', 'from'), ('from', 'a'), ('a', 'given'), ('given', 'sample'), ('sample', 'of'), ('of', 'text'), ('text', 'or'), ('or', 'speech')]\n"
     ]
    }
   ],
   "source": [
    "print(bigrams)"
   ]
  },
  {
   "cell_type": "code",
   "execution_count": 7,
   "id": "f41223f1-5324-4c00-9004-e67d09569544",
   "metadata": {},
   "outputs": [
    {
     "name": "stdout",
     "output_type": "stream",
     "text": [
      "[('N-Grams', 'are', 'a'), ('are', 'a', 'sequence'), ('a', 'sequence', 'of'), ('sequence', 'of', 'n'), ('of', 'n', 'items'), ('n', 'items', 'from'), ('items', 'from', 'a'), ('from', 'a', 'given'), ('a', 'given', 'sample'), ('given', 'sample', 'of'), ('sample', 'of', 'text'), ('of', 'text', 'or'), ('text', 'or', 'speech')]\n"
     ]
    }
   ],
   "source": [
    "print(trigrams)"
   ]
  },
  {
   "cell_type": "code",
   "execution_count": null,
   "id": "a2135142-7df0-47bb-a7f5-1171c8d6334f",
   "metadata": {},
   "outputs": [],
   "source": []
  }
 ],
 "metadata": {
  "kernelspec": {
   "display_name": "Python 3 (ipykernel)",
   "language": "python",
   "name": "python3"
  },
  "language_info": {
   "codemirror_mode": {
    "name": "ipython",
    "version": 3
   },
   "file_extension": ".py",
   "mimetype": "text/x-python",
   "name": "python",
   "nbconvert_exporter": "python",
   "pygments_lexer": "ipython3",
   "version": "3.13.1"
  }
 },
 "nbformat": 4,
 "nbformat_minor": 5
}
