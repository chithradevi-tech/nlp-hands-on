{
 "cells": [
  {
   "cell_type": "code",
   "execution_count": 1,
   "id": "584021bb-5226-4a6e-b400-4f46bb428dbf",
   "metadata": {},
   "outputs": [
    {
     "name": "stdout",
     "output_type": "stream",
     "text": [
      "Hello, And Welcome to My World\n"
     ]
    }
   ],
   "source": [
    "txt = \"Hello, And Welcome to My World\"\n",
    "print(txt)"
   ]
  },
  {
   "cell_type": "code",
   "execution_count": 2,
   "id": "7451a1c4-38b6-498f-97fc-51ffe8ecdd70",
   "metadata": {},
   "outputs": [
    {
     "name": "stdout",
     "output_type": "stream",
     "text": [
      "hello, and welcome to my world\n"
     ]
    }
   ],
   "source": [
    "x = txt.casefold()\n",
    "print(x)"
   ]
  },
  {
   "cell_type": "code",
   "execution_count": 3,
   "id": "2622252c-18be-4e34-a85d-00bb55a1af48",
   "metadata": {},
   "outputs": [
    {
     "name": "stdout",
     "output_type": "stream",
     "text": [
      "hello, and welcome to my world\n"
     ]
    }
   ],
   "source": [
    "y = txt.lower()\n",
    "print(y)"
   ]
  },
  {
   "cell_type": "code",
   "execution_count": null,
   "id": "fe7c3984-58e0-4e15-abbb-cfddb4f21141",
   "metadata": {},
   "outputs": [],
   "source": []
  }
 ],
 "metadata": {
  "kernelspec": {
   "display_name": "Python 3 (ipykernel)",
   "language": "python",
   "name": "python3"
  },
  "language_info": {
   "codemirror_mode": {
    "name": "ipython",
    "version": 3
   },
   "file_extension": ".py",
   "mimetype": "text/x-python",
   "name": "python",
   "nbconvert_exporter": "python",
   "pygments_lexer": "ipython3",
   "version": "3.13.1"
  }
 },
 "nbformat": 4,
 "nbformat_minor": 5
}
