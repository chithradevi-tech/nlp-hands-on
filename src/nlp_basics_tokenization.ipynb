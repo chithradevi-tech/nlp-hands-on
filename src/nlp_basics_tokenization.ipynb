{
 "cells": [
  {
   "cell_type": "code",
   "execution_count": 2,
   "id": "a0bd7cb3-cf81-4854-9f74-0a89da060c92",
   "metadata": {},
   "outputs": [],
   "source": [
    "import nltk\n",
    "from nltk.tokenize import word_tokenize, sent_tokenize\n",
    "#nltk.download('punkt')\n",
    "# Sample text for tokenization\n",
    "txt = \"NLTK provides powerful tools for tokenization. It includes word tokenization and sentence tokenization\""
   ]
  },
  {
   "cell_type": "code",
   "execution_count": 3,
   "id": "a681759f-21c9-4e7c-94d1-061ebe909a86",
   "metadata": {},
   "outputs": [
    {
     "name": "stdout",
     "output_type": "stream",
     "text": [
      "['NLTK', 'provides', 'powerful', 'tools', 'for', 'tokenization', '.', 'It', 'includes', 'word', 'tokenization', 'and', 'sentence', 'tokenization']\n"
     ]
    }
   ],
   "source": [
    "# Word tokenization\n",
    "words = word_tokenize(txt)\n",
    "print(words)"
   ]
  },
  {
   "cell_type": "code",
   "execution_count": 4,
   "id": "518e068e-2294-4c5a-a704-fb1ee4cdae2f",
   "metadata": {},
   "outputs": [
    {
     "name": "stdout",
     "output_type": "stream",
     "text": [
      "['NLTK provides powerful tools for tokenization.', 'It includes word tokenization and sentence tokenization']\n"
     ]
    }
   ],
   "source": [
    "# Word tokenization\n",
    "sent = sent_tokenize(txt)\n",
    "print(sent)"
   ]
  },
  {
   "cell_type": "code",
   "execution_count": null,
   "id": "dcd1e2ce-a42f-491b-a83d-0d2da644f8f2",
   "metadata": {},
   "outputs": [],
   "source": []
  }
 ],
 "metadata": {
  "kernelspec": {
   "display_name": "Python 3 (ipykernel)",
   "language": "python",
   "name": "python3"
  },
  "language_info": {
   "codemirror_mode": {
    "name": "ipython",
    "version": 3
   },
   "file_extension": ".py",
   "mimetype": "text/x-python",
   "name": "python",
   "nbconvert_exporter": "python",
   "pygments_lexer": "ipython3",
   "version": "3.13.1"
  }
 },
 "nbformat": 4,
 "nbformat_minor": 5
}
