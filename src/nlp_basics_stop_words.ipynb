{
 "cells": [
  {
   "cell_type": "markdown",
   "id": "c23333dd-1522-4990-9f23-6638d54c4c2c",
   "metadata": {},
   "source": [
    "### Stop words are words that are filtered out before or after processing natural language data because they are deemed to have little semantic value or are otherwise insignificant for the task at hand. \n",
    "\n",
    "Why Remove Stop Words?\n",
    "- Noise Reduction: Removing stop words helps reduce the amount of irrelevant data, allowing models to focus on more meaningful words. \n",
    "innovationyourself.com\n",
    "\n",
    "- Improved Computational Efficiency: Eliminating stop words reduces the size of the dataset, leading to faster processing and lower computational costs.\n",
    "\n",
    "- Enhanced Model Performance: By focusing on content-rich words, models can achieve better accuracy in tasks like text classification and sentiment analysis."
   ]
  },
  {
   "cell_type": "code",
   "execution_count": 1,
   "id": "3bf33be1-4c9b-4c61-b457-1cccd55ecd8e",
   "metadata": {},
   "outputs": [],
   "source": [
    "import nltk\n",
    "from nltk.corpus import stopwords\n",
    "from nltk.tokenize import word_tokenize"
   ]
  },
  {
   "cell_type": "code",
   "execution_count": 2,
   "id": "054dc9fc-5c5c-447c-b348-8cee0ac80183",
   "metadata": {},
   "outputs": [],
   "source": [
    "# Sample Sentence\n",
    "sentence = \"This is a sample sentence, showing off the stop words filtration\""
   ]
  },
  {
   "cell_type": "code",
   "execution_count": 3,
   "id": "e03d5f49-9f27-4889-b5b8-b7d8acf06d85",
   "metadata": {},
   "outputs": [],
   "source": [
    "# Tokenize the Sentence\n",
    "#nltk.download('punkt')\n",
    "#nltk.download('stopwords')\n",
    "words = word_tokenize(sentence)\n",
    "\n",
    "# Filter out stopwords\n",
    "new_sentence = [word for word in words if word.lower() not in stopwords.words('english')]"
   ]
  },
  {
   "cell_type": "code",
   "execution_count": 4,
   "id": "645935d9-c27d-43df-8884-116a69f54650",
   "metadata": {},
   "outputs": [
    {
     "name": "stdout",
     "output_type": "stream",
     "text": [
      "This is a sample sentence, showing off the stop words filtration\n",
      "['sample', 'sentence', ',', 'showing', 'stop', 'words', 'filtration']\n"
     ]
    }
   ],
   "source": [
    "# Print the final sentence\n",
    "print(sentence)\n",
    "print(new_sentence)"
   ]
  },
  {
   "cell_type": "code",
   "execution_count": null,
   "id": "34bb34d4-dc29-4cf8-b1c6-530395c50d5e",
   "metadata": {},
   "outputs": [],
   "source": []
  }
 ],
 "metadata": {
  "kernelspec": {
   "display_name": "Python 3 (ipykernel)",
   "language": "python",
   "name": "python3"
  },
  "language_info": {
   "codemirror_mode": {
    "name": "ipython",
    "version": 3
   },
   "file_extension": ".py",
   "mimetype": "text/x-python",
   "name": "python",
   "nbconvert_exporter": "python",
   "pygments_lexer": "ipython3",
   "version": "3.13.1"
  }
 },
 "nbformat": 4,
 "nbformat_minor": 5
}
